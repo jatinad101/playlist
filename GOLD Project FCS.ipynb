{
 "cells": [
  {
   "cell_type": "code",
   "execution_count": 10,
   "metadata": {},
   "outputs": [
    {
     "name": "stdout",
     "output_type": "stream",
     "text": [
      "----- \t -----Enter The Number Of Test Cases----- \t -----\n",
      "2\n",
      "\t -----Enter The Seat Numbers----- \t\n",
      "18\n",
      "40\n",
      "\t -----Facing Seat-Number and the Seat-Type----- \t\n",
      "19 \t AS\n",
      "45 \t AS\n"
     ]
    }
   ],
   "source": [
    "print('-----','\\t','-----Enter The Number Of Test Cases-----','\\t','-----')\n",
    "N    = int(input())\n",
    "seat = []\n",
    "r    = 0\n",
    "\n",
    "print('\\t','-----Enter The Seat Numbers-----','\\t')\n",
    "while N!=0:\n",
    "    n = int(input())\n",
    "    seat.append(n)\n",
    "    N -= 1\n",
    "    \n",
    "    \n",
    "print('\\t','-----Facing Seat-Number and the Seat-Type-----','\\t')    \n",
    "for i in range(len(seat)):\n",
    "    r = seat[i]%12\n",
    "    \n",
    "    if (r == 1):\n",
    "        print(seat[i] + 11,'\\t','WS')\n",
    "    \n",
    "    elif (r == 2):\n",
    "        print(seat[i] + 9,'\\t','MS')\n",
    "        \n",
    "    elif (r == 3):\n",
    "        print(seat[i] + 7,'\\t','AS')\n",
    "        \n",
    "    elif (r == 4):\n",
    "        print(seat[i] + 5,'\\t','AS')\n",
    "    \n",
    "    elif (r == 5):\n",
    "        print(seat[i] + 3,'\\t','MS')\n",
    "         \n",
    "    elif (r == 6):\n",
    "        print(seat[i] + 1,'\\t','WS')\n",
    "                   \n",
    "    elif (r == 7):\n",
    "        print(seat[i] - 1,'\\t','WS')\n",
    "        \n",
    "    elif (r == 8):\n",
    "        print(seat[i] - 3,'\\t','MS')\n",
    "   \n",
    "    elif (r == 9):\n",
    "        print(seat[i] - 5,'\\t','AS')\n",
    "   \n",
    "    elif (r == 10):\n",
    "        print(seat[i] - 7,'\\t','AS')\n",
    "    \n",
    "    elif (r == 11):\n",
    "        print(seat[i] - 9,'\\t','MS')\n",
    "        \n",
    "    elif (r == 0):\n",
    "        print(seat[i] - 11,'\\t','WS')\n",
    "   \n",
    "   "
   ]
  },
  {
   "cell_type": "code",
   "execution_count": null,
   "metadata": {},
   "outputs": [],
   "source": []
  }
 ],
 "metadata": {
  "kernelspec": {
   "display_name": "Python 3",
   "language": "python",
   "name": "python3"
  },
  "language_info": {
   "codemirror_mode": {
    "name": "ipython",
    "version": 3
   },
   "file_extension": ".py",
   "mimetype": "text/x-python",
   "name": "python",
   "nbconvert_exporter": "python",
   "pygments_lexer": "ipython3",
   "version": "3.6.9"
  }
 },
 "nbformat": 4,
 "nbformat_minor": 4
}
