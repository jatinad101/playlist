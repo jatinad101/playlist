{
 "cells": [
  {
   "cell_type": "code",
   "execution_count": 1,
   "metadata": {},
   "outputs": [],
   "source": [
    "import numpy as np"
   ]
  },
  {
   "cell_type": "code",
   "execution_count": 2,
   "metadata": {},
   "outputs": [
    {
     "data": {
      "text/plain": [
       "array([ 2,  8,  6, 13, 16])"
      ]
     },
     "execution_count": 2,
     "metadata": {},
     "output_type": "execute_result"
    }
   ],
   "source": [
    "a = np.array([1,2,3,4,5])\n",
    "b=np.array([1,6,3,9,11])\n",
    "a+b"
   ]
  },
  {
   "cell_type": "code",
   "execution_count": 3,
   "metadata": {},
   "outputs": [
    {
     "data": {
      "text/plain": [
       "array([1., 3., 5.], dtype=float32)"
      ]
     },
     "execution_count": 3,
     "metadata": {},
     "output_type": "execute_result"
    }
   ],
   "source": [
    "c=np.array((1,3,5),dtype='f')\n",
    "c"
   ]
  },
  {
   "cell_type": "code",
   "execution_count": 4,
   "metadata": {},
   "outputs": [
    {
     "data": {
      "text/plain": [
       "numpy.ndarray"
      ]
     },
     "execution_count": 4,
     "metadata": {},
     "output_type": "execute_result"
    }
   ],
   "source": [
    "type(c)"
   ]
  },
  {
   "cell_type": "code",
   "execution_count": 5,
   "metadata": {},
   "outputs": [
    {
     "data": {
      "text/plain": [
       "numpy.ndarray"
      ]
     },
     "execution_count": 5,
     "metadata": {},
     "output_type": "execute_result"
    }
   ],
   "source": [
    "type(a)"
   ]
  },
  {
   "cell_type": "code",
   "execution_count": 6,
   "metadata": {},
   "outputs": [
    {
     "data": {
      "text/plain": [
       "dtype('int64')"
      ]
     },
     "execution_count": 6,
     "metadata": {},
     "output_type": "execute_result"
    }
   ],
   "source": [
    "a.dtype"
   ]
  },
  {
   "cell_type": "code",
   "execution_count": 7,
   "metadata": {},
   "outputs": [
    {
     "data": {
      "text/plain": [
       "dtype('float32')"
      ]
     },
     "execution_count": 7,
     "metadata": {},
     "output_type": "execute_result"
    }
   ],
   "source": [
    "c.dtype"
   ]
  },
  {
   "cell_type": "code",
   "execution_count": 8,
   "metadata": {},
   "outputs": [
    {
     "name": "stdout",
     "output_type": "stream",
     "text": [
      "2\n"
     ]
    }
   ],
   "source": [
    "a = np.array([[1,2,3],[4,5,6]])\n",
    "print(a.ndim)"
   ]
  },
  {
   "cell_type": "code",
   "execution_count": 9,
   "metadata": {},
   "outputs": [
    {
     "data": {
      "text/plain": [
       "2"
      ]
     },
     "execution_count": 9,
     "metadata": {},
     "output_type": "execute_result"
    }
   ],
   "source": [
    "a[0,1]"
   ]
  },
  {
   "cell_type": "code",
   "execution_count": 10,
   "metadata": {},
   "outputs": [
    {
     "data": {
      "text/plain": [
       "4"
      ]
     },
     "execution_count": 10,
     "metadata": {},
     "output_type": "execute_result"
    }
   ],
   "source": [
    "b=np.array([[1,2,3],[4,5,6],[5,3,2],[9,8,7]])\n",
    "b.shape[0]"
   ]
  },
  {
   "cell_type": "code",
   "execution_count": 11,
   "metadata": {},
   "outputs": [
    {
     "data": {
      "text/plain": [
       "(4, 3)"
      ]
     },
     "execution_count": 11,
     "metadata": {},
     "output_type": "execute_result"
    }
   ],
   "source": [
    "b.shape"
   ]
  },
  {
   "cell_type": "code",
   "execution_count": 12,
   "metadata": {},
   "outputs": [
    {
     "data": {
      "text/plain": [
       "(2, 3)"
      ]
     },
     "execution_count": 12,
     "metadata": {},
     "output_type": "execute_result"
    }
   ],
   "source": [
    "a.shape"
   ]
  },
  {
   "cell_type": "code",
   "execution_count": 13,
   "metadata": {},
   "outputs": [
    {
     "data": {
      "text/plain": [
       "(4, 3)"
      ]
     },
     "execution_count": 13,
     "metadata": {},
     "output_type": "execute_result"
    }
   ],
   "source": [
    "b.shape"
   ]
  },
  {
   "cell_type": "code",
   "execution_count": 14,
   "metadata": {},
   "outputs": [
    {
     "data": {
      "text/plain": [
       "array([[1, 2, 3, 4],\n",
       "       [5, 6, 5, 3],\n",
       "       [2, 9, 8, 7]])"
      ]
     },
     "execution_count": 14,
     "metadata": {},
     "output_type": "execute_result"
    }
   ],
   "source": [
    "b.reshape(3,4)"
   ]
  },
  {
   "cell_type": "code",
   "execution_count": 15,
   "metadata": {},
   "outputs": [],
   "source": [
    "c = np.array([[[1,2,3],[4,5,6],[0,0,-1]],[[-1,-2,-3],[-4,-5,-6],[0,0,1]]])"
   ]
  },
  {
   "cell_type": "code",
   "execution_count": 16,
   "metadata": {},
   "outputs": [
    {
     "data": {
      "text/plain": [
       "3"
      ]
     },
     "execution_count": 16,
     "metadata": {},
     "output_type": "execute_result"
    }
   ],
   "source": [
    "c.ndim"
   ]
  },
  {
   "cell_type": "code",
   "execution_count": 17,
   "metadata": {},
   "outputs": [
    {
     "data": {
      "text/plain": [
       "-3"
      ]
     },
     "execution_count": 17,
     "metadata": {},
     "output_type": "execute_result"
    }
   ],
   "source": [
    "c[1,0,2]"
   ]
  },
  {
   "cell_type": "code",
   "execution_count": 18,
   "metadata": {},
   "outputs": [
    {
     "data": {
      "text/plain": [
       "(2, 3, 3)"
      ]
     },
     "execution_count": 18,
     "metadata": {},
     "output_type": "execute_result"
    }
   ],
   "source": [
    "c.shape"
   ]
  },
  {
   "cell_type": "code",
   "execution_count": 19,
   "metadata": {},
   "outputs": [
    {
     "data": {
      "text/plain": [
       "3"
      ]
     },
     "execution_count": 19,
     "metadata": {},
     "output_type": "execute_result"
    }
   ],
   "source": [
    "c.shape[1]"
   ]
  },
  {
   "cell_type": "code",
   "execution_count": 20,
   "metadata": {},
   "outputs": [
    {
     "data": {
      "text/plain": [
       "1"
      ]
     },
     "execution_count": 20,
     "metadata": {},
     "output_type": "execute_result"
    }
   ],
   "source": [
    "A = np.array([2])\n",
    "A.ndim"
   ]
  },
  {
   "cell_type": "code",
   "execution_count": 21,
   "metadata": {},
   "outputs": [
    {
     "data": {
      "text/plain": [
       "0"
      ]
     },
     "execution_count": 21,
     "metadata": {},
     "output_type": "execute_result"
    }
   ],
   "source": [
    "B = np.array(3)\n",
    "B.ndim"
   ]
  },
  {
   "cell_type": "code",
   "execution_count": 22,
   "metadata": {},
   "outputs": [
    {
     "data": {
      "text/plain": [
       "18"
      ]
     },
     "execution_count": 22,
     "metadata": {},
     "output_type": "execute_result"
    }
   ],
   "source": [
    "c.size"
   ]
  },
  {
   "cell_type": "code",
   "execution_count": 23,
   "metadata": {},
   "outputs": [
    {
     "data": {
      "text/plain": [
       "144"
      ]
     },
     "execution_count": 23,
     "metadata": {},
     "output_type": "execute_result"
    }
   ],
   "source": [
    "c.nbytes"
   ]
  },
  {
   "cell_type": "code",
   "execution_count": 24,
   "metadata": {},
   "outputs": [
    {
     "data": {
      "text/plain": [
       "array([ 0,  1,  2,  3,  4,  5,  6,  7,  8,  9, 10, 11, 12, 13, 14, 15, 16,\n",
       "       17, 18, 19, 20, 21, 22, 23, 24, 25, 26, 27, 28, 29, 30, 31, 32, 33,\n",
       "       34, 35, 36, 37, 38, 39, 40, 41, 42, 43, 44, 45, 46, 47, 48, 49, 50,\n",
       "       51, 52, 53, 54, 55, 56, 57, 58, 59, 60, 61, 62, 63, 64, 65, 66, 67,\n",
       "       68, 69, 70, 71, 72, 73, 74, 75, 76, 77, 78, 79, 80, 81, 82, 83, 84,\n",
       "       85, 86, 87, 88, 89, 90, 91, 92, 93, 94, 95, 96, 97, 98, 99])"
      ]
     },
     "execution_count": 24,
     "metadata": {},
     "output_type": "execute_result"
    }
   ],
   "source": [
    "A = np.arange(100)\n",
    "A"
   ]
  },
  {
   "cell_type": "code",
   "execution_count": 25,
   "metadata": {},
   "outputs": [
    {
     "data": {
      "text/plain": [
       "4950"
      ]
     },
     "execution_count": 25,
     "metadata": {},
     "output_type": "execute_result"
    }
   ],
   "source": [
    "sum(A)"
   ]
  },
  {
   "cell_type": "code",
   "execution_count": 26,
   "metadata": {},
   "outputs": [
    {
     "name": "stdout",
     "output_type": "stream",
     "text": [
      "4950\n"
     ]
    }
   ],
   "source": [
    "count=0\n",
    "for i in A:\n",
    "    count+=i\n",
    "print(count)    "
   ]
  },
  {
   "cell_type": "code",
   "execution_count": 27,
   "metadata": {},
   "outputs": [
    {
     "data": {
      "text/plain": [
       "100"
      ]
     },
     "execution_count": 27,
     "metadata": {},
     "output_type": "execute_result"
    }
   ],
   "source": [
    "len(A)"
   ]
  },
  {
   "cell_type": "code",
   "execution_count": 28,
   "metadata": {},
   "outputs": [
    {
     "data": {
      "text/plain": [
       "array([20, 23, 26, 29, 32, 35, 38, 41, 44, 47, 50, 53, 56, 59, 62, 65, 68,\n",
       "       71, 74, 77, 80, 83, 86, 89, 92, 95, 98])"
      ]
     },
     "execution_count": 28,
     "metadata": {},
     "output_type": "execute_result"
    }
   ],
   "source": [
    "A=np.arange(20,100,3)\n",
    "A"
   ]
  },
  {
   "cell_type": "code",
   "execution_count": 29,
   "metadata": {},
   "outputs": [
    {
     "data": {
      "text/plain": [
       "27"
      ]
     },
     "execution_count": 29,
     "metadata": {},
     "output_type": "execute_result"
    }
   ],
   "source": [
    "len(A)"
   ]
  },
  {
   "cell_type": "code",
   "execution_count": 30,
   "metadata": {},
   "outputs": [
    {
     "data": {
      "text/plain": [
       "1593"
      ]
     },
     "execution_count": 30,
     "metadata": {},
     "output_type": "execute_result"
    }
   ],
   "source": [
    "sum(A)"
   ]
  },
  {
   "cell_type": "code",
   "execution_count": 31,
   "metadata": {},
   "outputs": [
    {
     "data": {
      "text/plain": [
       "59.0"
      ]
     },
     "execution_count": 31,
     "metadata": {},
     "output_type": "execute_result"
    }
   ],
   "source": [
    "sum(A)/len(A)"
   ]
  },
  {
   "cell_type": "code",
   "execution_count": 32,
   "metadata": {},
   "outputs": [
    {
     "data": {
      "text/plain": [
       "[1, 4, 7]"
      ]
     },
     "execution_count": 32,
     "metadata": {},
     "output_type": "execute_result"
    }
   ],
   "source": [
    "list(range(1,10,3))"
   ]
  },
  {
   "cell_type": "code",
   "execution_count": 33,
   "metadata": {},
   "outputs": [
    {
     "data": {
      "text/plain": [
       "array([8, 4, 6, 3, 1, 2, 9, 0, 7, 5])"
      ]
     },
     "execution_count": 33,
     "metadata": {},
     "output_type": "execute_result"
    }
   ],
   "source": [
    "A = np.random.permutation(np.arange(10))\n",
    "A"
   ]
  },
  {
   "cell_type": "code",
   "execution_count": 34,
   "metadata": {},
   "outputs": [
    {
     "data": {
      "text/plain": [
       "40"
      ]
     },
     "execution_count": 34,
     "metadata": {},
     "output_type": "execute_result"
    }
   ],
   "source": [
    "v=np.random.randint(20,100)\n",
    "v"
   ]
  },
  {
   "cell_type": "code",
   "execution_count": 35,
   "metadata": {},
   "outputs": [
    {
     "data": {
      "text/plain": [
       "int"
      ]
     },
     "execution_count": 35,
     "metadata": {},
     "output_type": "execute_result"
    }
   ],
   "source": [
    "type(v)"
   ]
  },
  {
   "cell_type": "code",
   "execution_count": 38,
   "metadata": {},
   "outputs": [],
   "source": [
    "A = np.random.rand(1000)"
   ]
  },
  {
   "cell_type": "code",
   "execution_count": 39,
   "metadata": {},
   "outputs": [
    {
     "data": {
      "text/plain": [
       "array([0.51706785, 0.62357306, 0.69222227, 0.49805359, 0.2851691 ,\n",
       "       0.89127928, 0.14338454, 0.10860585, 0.66357822, 0.59555094,\n",
       "       0.69951629, 0.77499905, 0.25257074, 0.64974293, 0.55217505,\n",
       "       0.48032316, 0.21805515, 0.20315628, 0.6426026 , 0.43727445,\n",
       "       0.60146089, 0.02514994, 0.13531383, 0.06222339, 0.15666258,\n",
       "       0.32362822, 0.70540569, 0.56093946, 0.5753373 , 0.37120646,\n",
       "       0.8839086 , 0.15460626, 0.92986432, 0.14587004, 0.25388165,\n",
       "       0.51637367, 0.15352149, 0.61769319, 0.60815653, 0.15784409,\n",
       "       0.60467928, 0.20272021, 0.15108244, 0.75301186, 0.84576322,\n",
       "       0.79259273, 0.18796405, 0.68674524, 0.63956028, 0.82578619,\n",
       "       0.98522129, 0.26178047, 0.79958276, 0.46848991, 0.69505544,\n",
       "       0.80478733, 0.15383582, 0.59252004, 0.25941646, 0.70892278,\n",
       "       0.35752109, 0.83216066, 0.55316613, 0.15185693, 0.52289404,\n",
       "       0.7384889 , 0.84653204, 0.77167145, 0.64797015, 0.484987  ,\n",
       "       0.81055256, 0.81647821, 0.57733513, 0.00926694, 0.05763433,\n",
       "       0.01065553, 0.34099714, 0.36827474, 0.61594075, 0.13535707,\n",
       "       0.49512412, 0.19938481, 0.18680264, 0.58798191, 0.98103487,\n",
       "       0.04392413, 0.25580583, 0.41093491, 0.94237754, 0.18566188,\n",
       "       0.69453616, 0.42628778, 0.26167967, 0.53978015, 0.59085417,\n",
       "       0.51025764, 0.23873222, 0.15815805, 0.6367257 , 0.07221818,\n",
       "       0.81279806, 0.17722547, 0.90258784, 0.98724514, 0.96536937,\n",
       "       0.23592164, 0.99021688, 0.03851143, 0.72650508, 0.522696  ,\n",
       "       0.09674939, 0.99104494, 0.51493902, 0.79104135, 0.58478666,\n",
       "       0.33046301, 0.64641655, 0.12551848, 0.38998245, 0.84542009,\n",
       "       0.3302967 , 0.65246051, 0.1761727 , 0.13738024, 0.8289963 ,\n",
       "       0.671579  , 0.10195918, 0.1131253 , 0.8831291 , 0.28647658,\n",
       "       0.57733294, 0.15323062, 0.79224625, 0.75524879, 0.17645486,\n",
       "       0.20455611, 0.29860777, 0.66044176, 0.51823784, 0.10191151,\n",
       "       0.15552604, 0.99992989, 0.15433689, 0.69525293, 0.5127229 ,\n",
       "       0.91144029, 0.85444286, 0.53667633, 0.35477474, 0.73266176,\n",
       "       0.11095235, 0.87268909, 0.41748125, 0.21052717, 0.35674119,\n",
       "       0.51800662, 0.19099809, 0.07527662, 0.23298437, 0.79406165,\n",
       "       0.26756356, 0.55757345, 0.80639357, 0.80804986, 0.62151766,\n",
       "       0.49942807, 0.63565324, 0.59688521, 0.03548121, 0.94985074,\n",
       "       0.23195453, 0.28382594, 0.18699818, 0.1411464 , 0.49296561,\n",
       "       0.205058  , 0.96725523, 0.22834747, 0.003683  , 0.57107495,\n",
       "       0.7031096 , 0.62015662, 0.15352392, 0.62706888, 0.29996567,\n",
       "       0.88020626, 0.75653526, 0.6527883 , 0.22603695, 0.41640558,\n",
       "       0.55901372, 0.65041306, 0.30967081, 0.30024926, 0.46364346,\n",
       "       0.45027656, 0.11270971, 0.0388331 , 0.52867136, 0.46243376,\n",
       "       0.65337151, 0.54263451, 0.17993324, 0.38795788, 0.49041585,\n",
       "       0.50343074, 0.97093964, 0.3522571 , 0.11723686, 0.64229536,\n",
       "       0.16755211, 0.45972781, 0.15204819, 0.84982171, 0.22758492,\n",
       "       0.41712349, 0.95006108, 0.6998014 , 0.8978645 , 0.65139447,\n",
       "       0.38363442, 0.45359024, 0.8777543 , 0.17621148, 0.80100178,\n",
       "       0.53332943, 0.86073064, 0.36482652, 0.61443927, 0.40357116,\n",
       "       0.77544435, 0.08115184, 0.01141652, 0.05988981, 0.10200962,\n",
       "       0.40572442, 0.45706584, 0.37277755, 0.74876435, 0.6688056 ,\n",
       "       0.21107419, 0.82710245, 0.17058266, 0.98557383, 0.20635266,\n",
       "       0.69482653, 0.48354973, 0.36215922, 0.41861331, 0.30938059,\n",
       "       0.25500493, 0.37766807, 0.75973495, 0.44046684, 0.18938712,\n",
       "       0.53040147, 0.00869306, 0.10860074, 0.78899783, 0.89679744,\n",
       "       0.54644398, 0.89995207, 0.5271472 , 0.10193555, 0.78280763,\n",
       "       0.69433144, 0.28599347, 0.16286248, 0.01648571, 0.67816976,\n",
       "       0.05707738, 0.99929954, 0.91091684, 0.40486034, 0.20542828,\n",
       "       0.10204375, 0.35239829, 0.21253833, 0.4345261 , 0.62780659,\n",
       "       0.57457235, 0.62806082, 0.19796402, 0.55617015, 0.54592381,\n",
       "       0.07190463, 0.71993065, 0.82174797, 0.28049845, 0.62541964,\n",
       "       0.25511375, 0.97229197, 0.37578853, 0.42241602, 0.28864273,\n",
       "       0.62458662, 0.29851218, 0.31757283, 0.72201063, 0.06137885,\n",
       "       0.68172543, 0.45837162, 0.12011377, 0.74421035, 0.92046381,\n",
       "       0.89132935, 0.36927894, 0.72706344, 0.83444777, 0.22816086,\n",
       "       0.68103441, 0.0863912 , 0.78805543, 0.30983837, 0.66261682,\n",
       "       0.40191722, 0.69374431, 0.53706753, 0.80950834, 0.98449028,\n",
       "       0.85260713, 0.24919982, 0.25163675, 0.62586278, 0.43072116,\n",
       "       0.12366481, 0.79645096, 0.34499722, 0.38021993, 0.32365459,\n",
       "       0.35816758, 0.68712832, 0.16566122, 0.894423  , 0.95961462,\n",
       "       0.38632324, 0.30234932, 0.82573597, 0.15167017, 0.99022423,\n",
       "       0.39065127, 0.98172332, 0.44088488, 0.6784673 , 0.90381499,\n",
       "       0.30813488, 0.95998849, 0.53070201, 0.21564779, 0.38057888,\n",
       "       0.96782382, 0.30552661, 0.40360357, 0.16271964, 0.66393158,\n",
       "       0.12169569, 0.42155315, 0.94708072, 0.51764469, 0.47825062,\n",
       "       0.40011225, 0.32096229, 0.41766881, 0.70362177, 0.77534   ,\n",
       "       0.6383575 , 0.68993926, 0.02337325, 0.42901326, 0.21180948,\n",
       "       0.02748101, 0.55699098, 0.78583869, 0.14591849, 0.36026356,\n",
       "       0.7722022 , 0.41428884, 0.44970075, 0.11286463, 0.45952375,\n",
       "       0.53181344, 0.69985749, 0.80388209, 0.77287931, 0.93650014,\n",
       "       0.36960323, 0.5319367 , 0.29454689, 0.69200495, 0.794254  ,\n",
       "       0.91635541, 0.56410859, 0.54749467, 0.13884087, 0.78279672,\n",
       "       0.773163  , 0.00992836, 0.55130167, 0.57312902, 0.60307323,\n",
       "       0.55359592, 0.6184425 , 0.62207811, 0.15804259, 0.95833709,\n",
       "       0.12813302, 0.5075446 , 0.01223864, 0.72774499, 0.49457783,\n",
       "       0.56290834, 0.13101018, 0.91695699, 0.28865002, 0.64622485,\n",
       "       0.19277779, 0.71382769, 0.73545426, 0.67174489, 0.15748542,\n",
       "       0.76071632, 0.62897124, 0.95134766, 0.29181233, 0.9249735 ,\n",
       "       0.14599961, 0.06928638, 0.71629276, 0.18375332, 0.68931523,\n",
       "       0.38555004, 0.75434928, 0.73673022, 0.16136905, 0.17780886,\n",
       "       0.75850935, 0.90552884, 0.55602603, 0.29497076, 0.10473292,\n",
       "       0.88519585, 0.05430052, 0.05049675, 0.06460473, 0.87793447,\n",
       "       0.88830375, 0.97055147, 0.5372683 , 0.58314675, 0.0979028 ,\n",
       "       0.67269068, 0.07400964, 0.80743732, 0.69744564, 0.56633899,\n",
       "       0.66747661, 0.09602747, 0.57414692, 0.47130452, 0.72649769,\n",
       "       0.99974157, 0.38852121, 0.56913465, 0.86215633, 0.8206205 ,\n",
       "       0.03910568, 0.7030752 , 0.37300914, 0.82246171, 0.5135465 ,\n",
       "       0.34486553, 0.21665709, 0.94069727, 0.17649521, 0.3388367 ,\n",
       "       0.0146772 , 0.4274905 , 0.33737306, 0.35524198, 0.88074457,\n",
       "       0.48393802, 0.77636425, 0.40379191, 0.18565295, 0.85378269,\n",
       "       0.61523374, 0.81269996, 0.94278189, 0.58831995, 0.80651034,\n",
       "       0.73426289, 0.8909951 , 0.15319958, 0.31339054, 0.49264452,\n",
       "       0.52729091, 0.07842193, 0.25751084, 0.69206817, 0.81512676,\n",
       "       0.49716232, 0.20526643, 0.29497324, 0.01260966, 0.89176462,\n",
       "       0.04953831, 0.90084267, 0.85056883, 0.30774171, 0.76243441,\n",
       "       0.22080222, 0.44680191, 0.23686568, 0.75832362, 0.24458769,\n",
       "       0.16734192, 0.70948358, 0.72823759, 0.42096289, 0.0102008 ,\n",
       "       0.38480697, 0.18057867, 0.99195392, 0.59920686, 0.47957444,\n",
       "       0.55626553, 0.44859541, 0.82822548, 0.7205212 , 0.64377115,\n",
       "       0.25945196, 0.67067527, 0.25411535, 0.8547147 , 0.68415363,\n",
       "       0.99597879, 0.4487893 , 0.45261691, 0.70576952, 0.12498683,\n",
       "       0.42499847, 0.01079028, 0.64500316, 0.41281454, 0.7262906 ,\n",
       "       0.94385475, 0.93457205, 0.93055334, 0.34602409, 0.38976344,\n",
       "       0.33441126, 0.17339971, 0.80133407, 0.8533895 , 0.05808703,\n",
       "       0.15239875, 0.87117922, 0.34500367, 0.72473396, 0.71429755,\n",
       "       0.93761421, 0.24318263, 0.32071038, 0.42680043, 0.10297558,\n",
       "       0.71942624, 0.13141175, 0.51297675, 0.89736065, 0.2638485 ,\n",
       "       0.18085455, 0.82858035, 0.85339612, 0.84121941, 0.57472028,\n",
       "       0.10294083, 0.09738867, 0.9675346 , 0.04306308, 0.15949241,\n",
       "       0.96327242, 0.91635093, 0.73088368, 0.80670067, 0.9226516 ,\n",
       "       0.72694293, 0.66669173, 0.07055238, 0.30191411, 0.01193719,\n",
       "       0.75499126, 0.72642694, 0.16038992, 0.96803794, 0.44358681,\n",
       "       0.77455648, 0.63345799, 0.92827556, 0.68332325, 0.80803085,\n",
       "       0.46322465, 0.7884977 , 0.75945292, 0.88128996, 0.75435245,\n",
       "       0.53050625, 0.43285151, 0.48218957, 0.02349821, 0.0953342 ,\n",
       "       0.07154121, 0.44799861, 0.48290044, 0.53194399, 0.5368025 ,\n",
       "       0.78954156, 0.25640423, 0.15435108, 0.66839217, 0.43208128,\n",
       "       0.65333634, 0.89028784, 0.880784  , 0.02219392, 0.88160852,\n",
       "       0.06051881, 0.50641423, 0.69982627, 0.32597565, 0.06494642,\n",
       "       0.33890924, 0.44599844, 0.6034809 , 0.89775754, 0.90551666,\n",
       "       0.59814666, 0.03682064, 0.41168187, 0.46974448, 0.98150863,\n",
       "       0.84471197, 0.43989785, 0.54479656, 0.25720016, 0.45501813,\n",
       "       0.12024581, 0.18295683, 0.91838482, 0.0428718 , 0.14394226,\n",
       "       0.78704819, 0.92251652, 0.497874  , 0.53844101, 0.72589707,\n",
       "       0.06507924, 0.72438934, 0.98500552, 0.22873661, 0.43840996,\n",
       "       0.80139233, 0.01596696, 0.87833261, 0.23448235, 0.6303707 ,\n",
       "       0.8893439 , 0.64498775, 0.94314374, 0.23157814, 0.12438997,\n",
       "       0.26787738, 0.76706413, 0.55401154, 0.95495777, 0.53293126,\n",
       "       0.91354842, 0.80584255, 0.21528665, 0.27181917, 0.18379066,\n",
       "       0.58747621, 0.51844846, 0.60308143, 0.91989678, 0.9708946 ,\n",
       "       0.10897677, 0.08099642, 0.69169674, 0.44191087, 0.36135336,\n",
       "       0.51682039, 0.90153866, 0.38742461, 0.900238  , 0.66980379,\n",
       "       0.10100388, 0.73451673, 0.98460974, 0.41319024, 0.03530644,\n",
       "       0.34531544, 0.48976618, 0.06377192, 0.34309458, 0.88583005,\n",
       "       0.07795536, 0.14102029, 0.55509803, 0.65727993, 0.64106133,\n",
       "       0.33013894, 0.90631366, 0.26742118, 0.06493752, 0.52113721,\n",
       "       0.33441598, 0.37809892, 0.80657035, 0.54349959, 0.4601276 ,\n",
       "       0.03255576, 0.04893376, 0.91555012, 0.76899923, 0.27046274,\n",
       "       0.70394189, 0.23408905, 0.87510294, 0.03121702, 0.49448682,\n",
       "       0.51197642, 0.59529424, 0.36001661, 0.88901025, 0.55618908,\n",
       "       0.79839345, 0.51953991, 0.95500085, 0.5433753 , 0.89573535,\n",
       "       0.907944  , 0.63415295, 0.07299766, 0.31747991, 0.67768408,\n",
       "       0.42622169, 0.49609128, 0.51473304, 0.86247914, 0.92072866,\n",
       "       0.76561256, 0.49243632, 0.42346922, 0.24237787, 0.66372696,\n",
       "       0.96642564, 0.81248118, 0.32742994, 0.65795421, 0.57338973,\n",
       "       0.22398172, 0.20735592, 0.21197817, 0.56379703, 0.59132429,\n",
       "       0.80719341, 0.35352953, 0.46075903, 0.24575371, 0.59684785,\n",
       "       0.37413145, 0.49806489, 0.4995451 , 0.24578726, 0.44735291,\n",
       "       0.14002328, 0.26782712, 0.2447    , 0.47334099, 0.36457563,\n",
       "       0.62895431, 0.98842625, 0.0279077 , 0.40782468, 0.08350343,\n",
       "       0.00128882, 0.79798504, 0.38394094, 0.6018865 , 0.21999789,\n",
       "       0.57055863, 0.35140369, 0.76466118, 0.77032914, 0.99581245,\n",
       "       0.39563052, 0.2591912 , 0.21584112, 0.57290537, 0.66901296,\n",
       "       0.72437369, 0.00211666, 0.85098757, 0.66595352, 0.22281301,\n",
       "       0.4315358 , 0.26983317, 0.81623364, 0.5392866 , 0.43001705,\n",
       "       0.73863514, 0.60228806, 0.31061869, 0.89733088, 0.15877085,\n",
       "       0.85258306, 0.84296722, 0.95003928, 0.0639305 , 0.22775997,\n",
       "       0.29364199, 0.14458783, 0.00234163, 0.05372185, 0.73403861,\n",
       "       0.92260926, 0.99722751, 0.16782163, 0.85822399, 0.01054069,\n",
       "       0.97768927, 0.4826412 , 0.42106954, 0.90042131, 0.36626414,\n",
       "       0.03977683, 0.91424185, 0.7866049 , 0.01781021, 0.28963262,\n",
       "       0.35098731, 0.42866706, 0.69384526, 0.20062644, 0.23446384,\n",
       "       0.74287578, 0.84065247, 0.26037461, 0.64329802, 0.88220868,\n",
       "       0.72982379, 0.08491916, 0.84222145, 0.86657692, 0.86664644,\n",
       "       0.28197087, 0.54329076, 0.80945481, 0.02536406, 0.83928294,\n",
       "       0.17795604, 0.91758667, 0.95773121, 0.27459256, 0.46773671,\n",
       "       0.58422568, 0.65187968, 0.25531021, 0.57773645, 0.20702132,\n",
       "       0.40737653, 0.01762109, 0.46416559, 0.25645173, 0.25283109,\n",
       "       0.23921358, 0.29241499, 0.21670074, 0.94361289, 0.05847245,\n",
       "       0.50303657, 0.57391533, 0.76641878, 0.58862145, 0.68853029,\n",
       "       0.09927346, 0.16902017, 0.39389619, 0.76040496, 0.60661492,\n",
       "       0.08890552, 0.78662392, 0.50577819, 0.26945815, 0.71103352,\n",
       "       0.39567321, 0.93570511, 0.96682069, 0.47035776, 0.8724675 ,\n",
       "       0.10671346, 0.69750879, 0.07984252, 0.61937195, 0.03946519,\n",
       "       0.44158694, 0.66510879, 0.44534455, 0.68704376, 0.86363668,\n",
       "       0.41005183, 0.6783974 , 0.72880476, 0.94949797, 0.69636281,\n",
       "       0.06738204, 0.61752027, 0.64799941, 0.59696314, 0.13450679,\n",
       "       0.74135822, 0.18842064, 0.12040843, 0.15143763, 0.33648635,\n",
       "       0.11194193, 0.26143518, 0.31757669, 0.0158169 , 0.30669922,\n",
       "       0.51775376, 0.51531298, 0.16238428, 0.78309808, 0.77892775,\n",
       "       0.4661567 , 0.00610401, 0.07463727, 0.2031571 , 0.1215209 ,\n",
       "       0.39098323, 0.7617922 , 0.19212263, 0.28752292, 0.85354319,\n",
       "       0.16074337, 0.34738162, 0.16858217, 0.19566954, 0.19283413,\n",
       "       0.25426787, 0.33106776, 0.23733495, 0.78973526, 0.62723562,\n",
       "       0.15154096, 0.99473869, 0.10136549, 0.55557621, 0.7695089 ,\n",
       "       0.49579429, 0.24601594, 0.43852549, 0.543124  , 0.59047137,\n",
       "       0.0829263 , 0.28378027, 0.16989836, 0.96981734, 0.95207811,\n",
       "       0.46542753, 0.1778901 , 0.44758163, 0.66030042, 0.02514316,\n",
       "       0.35972042, 0.8206884 , 0.06410629, 0.67821736, 0.07577152,\n",
       "       0.550781  , 0.7432187 , 0.87019875, 0.54463153, 0.72241205,\n",
       "       0.98071591, 0.12886389, 0.15239186, 0.99693559, 0.0983524 ,\n",
       "       0.41956404, 0.44616824, 0.3036809 , 0.13217191, 0.31492138,\n",
       "       0.03628701, 0.75836474, 0.98546807, 0.99862452, 0.05152169])"
      ]
     },
     "execution_count": 39,
     "metadata": {},
     "output_type": "execute_result"
    }
   ],
   "source": [
    "A"
   ]
  },
  {
   "cell_type": "code",
   "execution_count": 40,
   "metadata": {},
   "outputs": [],
   "source": [
    "import matplotlib.pyplot as plt"
   ]
  },
  {
   "cell_type": "code",
   "execution_count": 41,
   "metadata": {},
   "outputs": [
    {
     "data": {
      "text/plain": [
       "(array([ 94., 115., 102.,  86., 104., 105., 108.,  98.,  96.,  92.]),\n",
       " array([0.00128882, 0.10115293, 0.20101703, 0.30088114, 0.40074525,\n",
       "        0.50060935, 0.60047346, 0.70033757, 0.80020167, 0.90006578,\n",
       "        0.99992989]),\n",
       " <a list of 10 Patch objects>)"
      ]
     },
     "execution_count": 41,
     "metadata": {},
     "output_type": "execute_result"
    },
    {
     "data": {
      "image/png": "[encoded data removed]",
      "text/plain": [
       "<matplotlib.figure.Figure at 0x7fbcfc31a208>"
      ]
     },
     "metadata": {
      "needs_background": "light"
     },
     "output_type": "display_data"
    }
   ],
   "source": [
    "plt.hist(A,bins=100)"
   ]
  },
  {
   "cell_type": "code",
   "execution_count": 44,
   "metadata": {},
   "outputs": [],
   "source": [
    "B = np.random.randn(10000)"
   ]
  },
  {
   "cell_type": "code",
   "execution_count": 45,
   "metadata": {},
   "outputs": [
    {
     "data": {
      "text/plain": [
       "(array([  1.,   0.,   0.,   0.,   0.,   0.,   0.,   0.,   0.,   0.,   0.,\n",
       "          0.,   0.,   0.,   2.,   1.,   1.,   0.,   0.,   2.,   1.,   0.,\n",
       "          0.,   1.,   2.,   0.,   3.,   3.,   6.,   5.,   4.,   6.,   6.,\n",
       "          9.,   7.,   5.,  11.,   5.,   3.,  12.,  10.,  12.,  13.,   9.,\n",
       "         12.,   9.,  16.,  20.,  15.,  26.,  20.,  31.,  24.,  39.,  27.,\n",
       "         34.,  30.,  42.,  55.,  42.,  44.,  45.,  52.,  50.,  65.,  53.,\n",
       "         62.,  69.,  54.,  78.,  90.,  64.,  86.,  66.,  91.,  94., 103.,\n",
       "         92., 102.,  82., 111.,  98., 130., 124., 122., 114., 100., 137.,\n",
       "        119., 137., 149., 153., 135., 163., 145., 163., 149., 148., 158.,\n",
       "        153., 151., 160., 153., 147., 147., 135., 130., 167., 141., 140.,\n",
       "        146., 143., 140., 121., 143., 121., 157., 124., 141., 114., 119.,\n",
       "        137., 110.,  96., 104., 117.,  99.,  88.,  80.,  82.,  72.,  90.,\n",
       "         72.,  62.,  68.,  71.,  84.,  50.,  59.,  57.,  53.,  46.,  42.,\n",
       "         52.,  37.,  46.,  32.,  31.,  44.,  27.,  29.,  15.,  21.,  16.,\n",
       "         18.,  20.,  18.,  15.,  23.,  16.,  17.,  11.,  11.,  13.,  11.,\n",
       "          5.,   6.,   3.,   5.,   6.,   3.,   5.,   5.,   3.,   4.,   2.,\n",
       "          0.,   3.,   2.,   1.,   0.,   1.,   1.,   1.,   1.,   0.,   1.,\n",
       "          1.,   3.,   0.,   0.,   0.,   0.,   0.,   0.,   0.,   1.,   1.,\n",
       "          0.,   2.]),\n",
       " array([-3.87965079, -3.84156825, -3.80348572, -3.76540319, -3.72732066,\n",
       "        -3.68923813, -3.6511556 , -3.61307307, -3.57499053, -3.536908  ,\n",
       "        -3.49882547, -3.46074294, -3.42266041, -3.38457788, -3.34649535,\n",
       "        -3.30841281, -3.27033028, -3.23224775, -3.19416522, -3.15608269,\n",
       "        -3.11800016, -3.07991763, -3.04183509, -3.00375256, -2.96567003,\n",
       "        -2.9275875 , -2.88950497, -2.85142244, -2.81333991, -2.77525737,\n",
       "        -2.73717484, -2.69909231, -2.66100978, -2.62292725, -2.58484472,\n",
       "        -2.54676219, -2.50867965, -2.47059712, -2.43251459, -2.39443206,\n",
       "        -2.35634953, -2.318267  , -2.28018447, -2.24210193, -2.2040194 ,\n",
       "        -2.16593687, -2.12785434, -2.08977181, -2.05168928, -2.01360675,\n",
       "        -1.97552421, -1.93744168, -1.89935915, -1.86127662, -1.82319409,\n",
       "        -1.78511156, -1.74702903, -1.70894649, -1.67086396, -1.63278143,\n",
       "        -1.5946989 , -1.55661637, -1.51853384, -1.48045131, -1.44236877,\n",
       "        -1.40428624, -1.36620371, -1.32812118, -1.29003865, -1.25195612,\n",
       "        -1.21387359, -1.17579105, -1.13770852, -1.09962599, -1.06154346,\n",
       "        -1.02346093, -0.9853784 , -0.94729586, -0.90921333, -0.8711308 ,\n",
       "        -0.83304827, -0.79496574, -0.75688321, -0.71880068, -0.68071814,\n",
       "        -0.64263561, -0.60455308, -0.56647055, -0.52838802, -0.49030549,\n",
       "        -0.45222296, -0.41414042, -0.37605789, -0.33797536, -0.29989283,\n",
       "        -0.2618103 , -0.22372777, -0.18564524, -0.1475627 , -0.10948017,\n",
       "        -0.07139764, -0.03331511,  0.00476742,  0.04284995,  0.08093248,\n",
       "         0.11901502,  0.15709755,  0.19518008,  0.23326261,  0.27134514,\n",
       "         0.30942767,  0.3475102 ,  0.38559274,  0.42367527,  0.4617578 ,\n",
       "         0.49984033,  0.53792286,  0.57600539,  0.61408792,  0.65217046,\n",
       "         0.69025299,  0.72833552,  0.76641805,  0.80450058,  0.84258311,\n",
       "         0.88066564,  0.91874818,  0.95683071,  0.99491324,  1.03299577,\n",
       "         1.0710783 ,  1.10916083,  1.14724336,  1.1853259 ,  1.22340843,\n",
       "         1.26149096,  1.29957349,  1.33765602,  1.37573855,  1.41382108,\n",
       "         1.45190362,  1.48998615,  1.52806868,  1.56615121,  1.60423374,\n",
       "         1.64231627,  1.6803988 ,  1.71848134,  1.75656387,  1.7946464 ,\n",
       "         1.83272893,  1.87081146,  1.90889399,  1.94697652,  1.98505906,\n",
       "         2.02314159,  2.06122412,  2.09930665,  2.13738918,  2.17547171,\n",
       "         2.21355424,  2.25163678,  2.28971931,  2.32780184,  2.36588437,\n",
       "         2.4039669 ,  2.44204943,  2.48013196,  2.5182145 ,  2.55629703,\n",
       "         2.59437956,  2.63246209,  2.67054462,  2.70862715,  2.74670968,\n",
       "         2.78479222,  2.82287475,  2.86095728,  2.89903981,  2.93712234,\n",
       "         2.97520487,  3.0132874 ,  3.05136994,  3.08945247,  3.127535  ,\n",
       "         3.16561753,  3.20370006,  3.24178259,  3.27986512,  3.31794766,\n",
       "         3.35603019,  3.39411272,  3.43219525,  3.47027778,  3.50836031,\n",
       "         3.54644284,  3.58452538,  3.62260791,  3.66069044,  3.69877297,\n",
       "         3.7368555 ]),\n",
       " <a list of 200 Patch objects>)"
      ]
     },
     "execution_count": 45,
     "metadata": {},
     "output_type": "execute_result"
    },
    {
     "data": {
      "image/png": "[encoded data removed]",
      "text/plain": [
       "<matplotlib.figure.Figure at 0x7fbcfa1e8358>"
      ]
     },
     "metadata": {
      "needs_background": "light"
     },
     "output_type": "display_data"
    }
   ],
   "source": [
    "plt.hist(B,bins=200)"
   ]
  },
  {
   "cell_type": "code",
   "execution_count": 47,
   "metadata": {},
   "outputs": [],
   "source": [
    "C=np.random.rand(2,3)"
   ]
  },
  {
   "cell_type": "code",
   "execution_count": 48,
   "metadata": {},
   "outputs": [
    {
     "data": {
      "text/plain": [
       "2"
      ]
     },
     "execution_count": 48,
     "metadata": {},
     "output_type": "execute_result"
    }
   ],
   "source": [
    "C.ndim"
   ]
  },
  {
   "cell_type": "code",
   "execution_count": 49,
   "metadata": {},
   "outputs": [],
   "source": [
    "C=np.random.rand(2,3,4,2)"
   ]
  },
  {
   "cell_type": "code",
   "execution_count": 50,
   "metadata": {},
   "outputs": [
    {
     "data": {
      "text/plain": [
       "array([[[[0.45466006, 0.34557964],\n",
       "         [0.98951282, 0.86007243],\n",
       "         [0.3317333 , 0.40911298],\n",
       "         [0.42480909, 0.82783323]],\n",
       "\n",
       "        [[0.60850583, 0.88949334],\n",
       "         [0.48395672, 0.46925266],\n",
       "         [0.96012493, 0.69747177],\n",
       "         [0.87673833, 0.61840456]],\n",
       "\n",
       "        [[0.33458009, 0.78747283],\n",
       "         [0.16552115, 0.73252595],\n",
       "         [0.41627226, 0.32029671],\n",
       "         [0.85469248, 0.38453743]]],\n",
       "\n",
       "\n",
       "       [[[0.98577367, 0.11005903],\n",
       "         [0.26933844, 0.00802931],\n",
       "         [0.48339226, 0.60505141],\n",
       "         [0.43733054, 0.61202863]],\n",
       "\n",
       "        [[0.38396925, 0.69249182],\n",
       "         [0.62094669, 0.82503068],\n",
       "         [0.97114341, 0.68997809],\n",
       "         [0.42314357, 0.70963867]],\n",
       "\n",
       "        [[0.78608464, 0.79409438],\n",
       "         [0.73583157, 0.11729771],\n",
       "         [0.39465226, 0.52749218],\n",
       "         [0.46018385, 0.56288092]]]])"
      ]
     },
     "execution_count": 50,
     "metadata": {},
     "output_type": "execute_result"
    }
   ],
   "source": [
    "C"
   ]
  },
  {
   "cell_type": "code",
   "execution_count": 52,
   "metadata": {},
   "outputs": [],
   "source": [
    "D = np.arange(100).reshape(4,25)"
   ]
  },
  {
   "cell_type": "code",
   "execution_count": 53,
   "metadata": {},
   "outputs": [
    {
     "data": {
      "text/plain": [
       "(4, 25)"
      ]
     },
     "execution_count": 53,
     "metadata": {},
     "output_type": "execute_result"
    }
   ],
   "source": [
    "D.shape"
   ]
  },
  {
   "cell_type": "code",
   "execution_count": 54,
   "metadata": {},
   "outputs": [
    {
     "data": {
      "text/plain": [
       "array([[ 0,  1,  2,  3],\n",
       "       [ 4,  5,  6,  7],\n",
       "       [ 8,  9, 10, 11],\n",
       "       [12, 13, 14, 15],\n",
       "       [16, 17, 18, 19],\n",
       "       [20, 21, 22, 23],\n",
       "       [24, 25, 26, 27],\n",
       "       [28, 29, 30, 31],\n",
       "       [32, 33, 34, 35],\n",
       "       [36, 37, 38, 39],\n",
       "       [40, 41, 42, 43],\n",
       "       [44, 45, 46, 47],\n",
       "       [48, 49, 50, 51],\n",
       "       [52, 53, 54, 55],\n",
       "       [56, 57, 58, 59],\n",
       "       [60, 61, 62, 63],\n",
       "       [64, 65, 66, 67],\n",
       "       [68, 69, 70, 71],\n",
       "       [72, 73, 74, 75],\n",
       "       [76, 77, 78, 79],\n",
       "       [80, 81, 82, 83],\n",
       "       [84, 85, 86, 87],\n",
       "       [88, 89, 90, 91],\n",
       "       [92, 93, 94, 95],\n",
       "       [96, 97, 98, 99]])"
      ]
     },
     "execution_count": 54,
     "metadata": {},
     "output_type": "execute_result"
    }
   ],
   "source": [
    "D.reshape(25,4)"
   ]
  },
  {
   "cell_type": "code",
   "execution_count": 55,
   "metadata": {},
   "outputs": [],
   "source": [
    "D = np.arange(100).reshape(4,5,5)"
   ]
  },
  {
   "cell_type": "code",
   "execution_count": 56,
   "metadata": {},
   "outputs": [
    {
     "data": {
      "text/plain": [
       "(4, 5, 5)"
      ]
     },
     "execution_count": 56,
     "metadata": {},
     "output_type": "execute_result"
    }
   ],
   "source": [
    "D.shape"
   ]
  },
  {
   "cell_type": "code",
   "execution_count": 57,
   "metadata": {},
   "outputs": [
    {
     "data": {
      "text/plain": [
       "array([[[ 0,  1,  2,  3,  4],\n",
       "        [ 5,  6,  7,  8,  9],\n",
       "        [10, 11, 12, 13, 14],\n",
       "        [15, 16, 17, 18, 19],\n",
       "        [20, 21, 22, 23, 24]],\n",
       "\n",
       "       [[25, 26, 27, 28, 29],\n",
       "        [30, 31, 32, 33, 34],\n",
       "        [35, 36, 37, 38, 39],\n",
       "        [40, 41, 42, 43, 44],\n",
       "        [45, 46, 47, 48, 49]],\n",
       "\n",
       "       [[50, 51, 52, 53, 54],\n",
       "        [55, 56, 57, 58, 59],\n",
       "        [60, 61, 62, 63, 64],\n",
       "        [65, 66, 67, 68, 69],\n",
       "        [70, 71, 72, 73, 74]],\n",
       "\n",
       "       [[75, 76, 77, 78, 79],\n",
       "        [80, 81, 82, 83, 84],\n",
       "        [85, 86, 87, 88, 89],\n",
       "        [90, 91, 92, 93, 94],\n",
       "        [95, 96, 97, 98, 99]]])"
      ]
     },
     "execution_count": 57,
     "metadata": {},
     "output_type": "execute_result"
    }
   ],
   "source": [
    "D"
   ]
  },
  {
   "cell_type": "code",
   "execution_count": 58,
   "metadata": {},
   "outputs": [],
   "source": [
    "A = np.arange(100)"
   ]
  },
  {
   "cell_type": "code",
   "execution_count": 60,
   "metadata": {},
   "outputs": [
    {
     "data": {
      "text/plain": [
       "array([3, 4, 5, 6, 7, 8, 9])"
      ]
     },
     "execution_count": 60,
     "metadata": {},
     "output_type": "execute_result"
    }
   ],
   "source": [
    "b = A[3:10]\n",
    "b"
   ]
  },
  {
   "cell_type": "code",
   "execution_count": 61,
   "metadata": {},
   "outputs": [
    {
     "data": {
      "text/plain": [
       "array([-1200,     4,     5,     6,     7,     8,     9])"
      ]
     },
     "execution_count": 61,
     "metadata": {},
     "output_type": "execute_result"
    }
   ],
   "source": [
    "b[0] = -1200\n",
    "b"
   ]
  },
  {
   "cell_type": "code",
   "execution_count": 65,
   "metadata": {},
   "outputs": [],
   "source": [
    "c = A[3:10].copy()"
   ]
  },
  {
   "cell_type": "code",
   "execution_count": 66,
   "metadata": {},
   "outputs": [
    {
     "data": {
      "text/plain": [
       "array([-1200,     4,     5,     6,     7,     8,     9])"
      ]
     },
     "execution_count": 66,
     "metadata": {},
     "output_type": "execute_result"
    }
   ],
   "source": [
    "c"
   ]
  },
  {
   "cell_type": "code",
   "execution_count": 67,
   "metadata": {},
   "outputs": [
    {
     "data": {
      "text/plain": [
       "array([ 0,  5, 10, 15, 20, 25, 30, 35, 40, 45, 50, 55, 60, 65, 70, 75, 80,\n",
       "       85, 90, 95])"
      ]
     },
     "execution_count": 67,
     "metadata": {},
     "output_type": "execute_result"
    }
   ],
   "source": [
    "A[::5]"
   ]
  },
  {
   "cell_type": "code",
   "execution_count": 68,
   "metadata": {},
   "outputs": [
    {
     "data": {
      "text/plain": [
       "array([99, 94, 89, 84, 79, 74, 69, 64, 59, 54, 49, 44, 39, 34, 29, 24, 19,\n",
       "       14,  9,  4])"
      ]
     },
     "execution_count": 68,
     "metadata": {},
     "output_type": "execute_result"
    }
   ],
   "source": [
    "A[::-5]"
   ]
  },
  {
   "cell_type": "code",
   "execution_count": 69,
   "metadata": {},
   "outputs": [
    {
     "data": {
      "text/plain": [
       "array([   99,    98,    97,    96,    95,    94,    93,    92,    91,\n",
       "          90,    89,    88,    87,    86,    85,    84,    83,    82,\n",
       "          81,    80,    79,    78,    77,    76,    75,    74,    73,\n",
       "          72,    71,    70,    69,    68,    67,    66,    65,    64,\n",
       "          63,    62,    61,    60,    59,    58,    57,    56,    55,\n",
       "          54,    53,    52,    51,    50,    49,    48,    47,    46,\n",
       "          45,    44,    43,    42,    41,    40,    39,    38,    37,\n",
       "          36,    35,    34,    33,    32,    31,    30,    29,    28,\n",
       "          27,    26,    25,    24,    23,    22,    21,    20,    19,\n",
       "          18,    17,    16,    15,    14,    13,    12,    11,    10,\n",
       "           9,     8,     7,     6,     5,     4, -1200,     2,     1,\n",
       "           0])"
      ]
     },
     "execution_count": 69,
     "metadata": {},
     "output_type": "execute_result"
    }
   ],
   "source": [
    "A[::-1]"
   ]
  },
  {
   "cell_type": "code",
   "execution_count": 70,
   "metadata": {},
   "outputs": [],
   "source": [
    "np.indices?"
   ]
  },
  {
   "cell_type": "code",
   "execution_count": 72,
   "metadata": {},
   "outputs": [],
   "source": [
    "B = (A==-1200)*np.arange(A.size)"
   ]
  },
  {
   "cell_type": "code",
   "execution_count": 73,
   "metadata": {},
   "outputs": [
    {
     "data": {
      "text/plain": [
       "array([0, 0, 0, 3, 0, 0, 0, 0, 0, 0, 0, 0, 0, 0, 0, 0, 0, 0, 0, 0, 0, 0,\n",
       "       0, 0, 0, 0, 0, 0, 0, 0, 0, 0, 0, 0, 0, 0, 0, 0, 0, 0, 0, 0, 0, 0,\n",
       "       0, 0, 0, 0, 0, 0, 0, 0, 0, 0, 0, 0, 0, 0, 0, 0, 0, 0, 0, 0, 0, 0,\n",
       "       0, 0, 0, 0, 0, 0, 0, 0, 0, 0, 0, 0, 0, 0, 0, 0, 0, 0, 0, 0, 0, 0,\n",
       "       0, 0, 0, 0, 0, 0, 0, 0, 0, 0, 0, 0])"
      ]
     },
     "execution_count": 73,
     "metadata": {},
     "output_type": "execute_result"
    }
   ],
   "source": [
    "B"
   ]
  },
  {
   "cell_type": "code",
   "execution_count": 78,
   "metadata": {},
   "outputs": [
    {
     "data": {
      "text/plain": [
       "3"
      ]
     },
     "execution_count": 78,
     "metadata": {},
     "output_type": "execute_result"
    }
   ],
   "source": [
    "idx = np.argwhere(A==-1200)[0][0]\n",
    "idx"
   ]
  },
  {
   "cell_type": "code",
   "execution_count": 80,
   "metadata": {},
   "outputs": [
    {
     "data": {
      "text/plain": [
       "array([ 0,  1,  2,  3,  4,  5,  6,  7,  8,  9, 10, 11, 12, 13, 14, 15, 16,\n",
       "       17, 18, 19, 20, 21, 22, 23, 24, 25, 26, 27, 28, 29, 30, 31, 32, 33,\n",
       "       34, 35, 36, 37, 38, 39, 40, 41, 42, 43, 44, 45, 46, 47, 48, 49, 50,\n",
       "       51, 52, 53, 54, 55, 56, 57, 58, 59, 60, 61, 62, 63, 64, 65, 66, 67,\n",
       "       68, 69, 70, 71, 72, 73, 74, 75, 76, 77, 78, 79, 80, 81, 82, 83, 84,\n",
       "       85, 86, 87, 88, 89, 90, 91, 92, 93, 94, 95, 96, 97, 98, 99])"
      ]
     },
     "execution_count": 80,
     "metadata": {},
     "output_type": "execute_result"
    }
   ],
   "source": [
    "A[idx] = 3\n",
    "A"
   ]
  },
  {
   "cell_type": "code",
   "execution_count": 102,
   "metadata": {},
   "outputs": [
    {
     "data": {
      "text/plain": [
       "array([[ 0.,  6., 10.,  4.],\n",
       "       [ 7.,  9.,  2.,  7.],\n",
       "       [ 7.,  7., 10.,  7.],\n",
       "       [ 3.,  3.,  3.,  8.],\n",
       "       [10.,  4.,  1.,  2.]])"
      ]
     },
     "execution_count": 102,
     "metadata": {},
     "output_type": "execute_result"
    }
   ],
   "source": [
    "A = np.round(10*np.random.rand(5,4))\n",
    "A"
   ]
  },
  {
   "cell_type": "code",
   "execution_count": 103,
   "metadata": {},
   "outputs": [
    {
     "data": {
      "text/plain": [
       "array([7., 9., 2., 7.])"
      ]
     },
     "execution_count": 103,
     "metadata": {},
     "output_type": "execute_result"
    }
   ],
   "source": [
    "A[1,:]"
   ]
  },
  {
   "cell_type": "code",
   "execution_count": 104,
   "metadata": {},
   "outputs": [
    {
     "data": {
      "text/plain": [
       "array([3., 3., 3., 8.])"
      ]
     },
     "execution_count": 104,
     "metadata": {},
     "output_type": "execute_result"
    }
   ],
   "source": [
    "A[3,:]"
   ]
  },
  {
   "cell_type": "code",
   "execution_count": 105,
   "metadata": {},
   "outputs": [
    {
     "data": {
      "text/plain": [
       "array([10.,  4.,  1.,  2.])"
      ]
     },
     "execution_count": 105,
     "metadata": {},
     "output_type": "execute_result"
    }
   ],
   "source": [
    "A[4,:]"
   ]
  },
  {
   "cell_type": "code",
   "execution_count": 106,
   "metadata": {},
   "outputs": [
    {
     "data": {
      "text/plain": [
       "array([[ 2.,  7.],\n",
       "       [10.,  7.]])"
      ]
     },
     "execution_count": 106,
     "metadata": {},
     "output_type": "execute_result"
    }
   ],
   "source": [
    "A[1:3,2:4]"
   ]
  },
  {
   "cell_type": "code",
   "execution_count": 107,
   "metadata": {},
   "outputs": [
    {
     "data": {
      "text/plain": [
       "array([[ 0.,  7.,  7.,  3., 10.],\n",
       "       [ 6.,  9.,  7.,  3.,  4.],\n",
       "       [10.,  2., 10.,  3.,  1.],\n",
       "       [ 4.,  7.,  7.,  8.,  2.]])"
      ]
     },
     "execution_count": 107,
     "metadata": {},
     "output_type": "execute_result"
    }
   ],
   "source": [
    "A.T"
   ]
  },
  {
   "cell_type": "code",
   "execution_count": 108,
   "metadata": {},
   "outputs": [],
   "source": [
    "import numpy.linalg as la"
   ]
  },
  {
   "cell_type": "code",
   "execution_count": 109,
   "metadata": {},
   "outputs": [
    {
     "data": {
      "text/plain": [
       "array([[-0.62463545,  0.93840419,  0.46638939],\n",
       "       [-0.33258257, -3.07136016,  2.21799489],\n",
       "       [ 2.07505173,  2.38382389, -1.77970469]])"
      ]
     },
     "execution_count": 109,
     "metadata": {},
     "output_type": "execute_result"
    }
   ],
   "source": [
    "la.inv(np.random.rand(3,3))"
   ]
  },
  {
   "cell_type": "code",
   "execution_count": 110,
   "metadata": {},
   "outputs": [
    {
     "data": {
      "text/plain": [
       "array([[ 0.,  6., 10.,  4.],\n",
       "       [ 7.,  9.,  2.,  7.],\n",
       "       [ 7.,  7., 10.,  7.],\n",
       "       [ 3.,  3.,  3.,  8.],\n",
       "       [10.,  4.,  1.,  2.]])"
      ]
     },
     "execution_count": 110,
     "metadata": {},
     "output_type": "execute_result"
    }
   ],
   "source": [
    "A"
   ]
  },
  {
   "cell_type": "code",
   "execution_count": 113,
   "metadata": {},
   "outputs": [
    {
     "data": {
      "text/plain": [
       "array([[ 0.,  3.,  1.,  2.],\n",
       "       [ 3.,  4.,  2.,  4.],\n",
       "       [ 7.,  6.,  3.,  7.],\n",
       "       [ 7.,  7., 10.,  7.],\n",
       "       [10.,  9., 10.,  8.]])"
      ]
     },
     "execution_count": 113,
     "metadata": {},
     "output_type": "execute_result"
    }
   ],
   "source": [
    "A.sort(axis=0) # every column is sorted\n",
    "A"
   ]
  },
  {
   "cell_type": "code",
   "execution_count": 114,
   "metadata": {},
   "outputs": [
    {
     "data": {
      "text/plain": [
       "array([[ 0.,  1.,  2.,  3.],\n",
       "       [ 2.,  3.,  4.,  4.],\n",
       "       [ 3.,  6.,  7.,  7.],\n",
       "       [ 7.,  7.,  7., 10.],\n",
       "       [ 8.,  9., 10., 10.]])"
      ]
     },
     "execution_count": 114,
     "metadata": {},
     "output_type": "execute_result"
    }
   ],
   "source": [
    "A.sort(axis=1) #every row is sorted\n",
    "A"
   ]
  },
  {
   "cell_type": "code",
   "execution_count": 115,
   "metadata": {},
   "outputs": [
    {
     "data": {
      "text/plain": [
       "array([0., 1., 2., 3., 2., 3., 4., 4., 3., 6., 7., 7., 7., 7., 7.])"
      ]
     },
     "execution_count": 115,
     "metadata": {},
     "output_type": "execute_result"
    }
   ],
   "source": [
    "A[A<8]"
   ]
  },
  {
   "cell_type": "code",
   "execution_count": 116,
   "metadata": {},
   "outputs": [],
   "source": [
    "A=np.arange(100)"
   ]
  },
  {
   "cell_type": "code",
   "execution_count": 117,
   "metadata": {},
   "outputs": [],
   "source": [
    "B=A[[3,5,6]]"
   ]
  },
  {
   "cell_type": "code",
   "execution_count": 118,
   "metadata": {},
   "outputs": [
    {
     "data": {
      "text/plain": [
       "array([3, 5, 6])"
      ]
     },
     "execution_count": 118,
     "metadata": {},
     "output_type": "execute_result"
    }
   ],
   "source": [
    "B"
   ]
  },
  {
   "cell_type": "code",
   "execution_count": 119,
   "metadata": {},
   "outputs": [],
   "source": [
    "B[0]=-4"
   ]
  },
  {
   "cell_type": "code",
   "execution_count": 120,
   "metadata": {},
   "outputs": [
    {
     "data": {
      "text/plain": [
       "array([-4,  5,  6])"
      ]
     },
     "execution_count": 120,
     "metadata": {},
     "output_type": "execute_result"
    }
   ],
   "source": [
    "B"
   ]
  },
  {
   "cell_type": "code",
   "execution_count": 121,
   "metadata": {},
   "outputs": [],
   "source": [
    "B = A[A<40]"
   ]
  },
  {
   "cell_type": "code",
   "execution_count": 122,
   "metadata": {},
   "outputs": [
    {
     "data": {
      "text/plain": [
       "array([ 0,  1,  2,  3,  4,  5,  6,  7,  8,  9, 10, 11, 12, 13, 14, 15, 16,\n",
       "       17, 18, 19, 20, 21, 22, 23, 24, 25, 26, 27, 28, 29, 30, 31, 32, 33,\n",
       "       34, 35, 36, 37, 38, 39])"
      ]
     },
     "execution_count": 122,
     "metadata": {},
     "output_type": "execute_result"
    }
   ],
   "source": [
    "B"
   ]
  },
  {
   "cell_type": "code",
   "execution_count": 125,
   "metadata": {},
   "outputs": [],
   "source": [
    "B = A[(A<40) & (A>30)]"
   ]
  },
  {
   "cell_type": "code",
   "execution_count": 126,
   "metadata": {},
   "outputs": [
    {
     "data": {
      "text/plain": [
       "array([31, 32, 33, 34, 35, 36, 37, 38, 39])"
      ]
     },
     "execution_count": 126,
     "metadata": {},
     "output_type": "execute_result"
    }
   ],
   "source": [
    "B"
   ]
  },
  {
   "cell_type": "code",
   "execution_count": 131,
   "metadata": {},
   "outputs": [],
   "source": [
    "# & is used for arrays , and is used for single object\n",
    "# | is used for arrays , or is used for single object\n",
    "# ~ not"
   ]
  },
  {
   "cell_type": "markdown",
   "metadata": {},
   "source": [
    "# Numpy Brodcasting"
   ]
  },
  {
   "cell_type": "code",
   "execution_count": 132,
   "metadata": {},
   "outputs": [],
   "source": [
    "A=A+5"
   ]
  },
  {
   "cell_type": "code",
   "execution_count": 133,
   "metadata": {},
   "outputs": [
    {
     "data": {
      "text/plain": [
       "array([ 10,  11,  12,  13,  14,  15,  16,  17,  18,  19,  20,  21,  22,\n",
       "        23,  24,  25,  26,  27,  28,  29,  30,  31,  32,  33,  34,  35,\n",
       "        36,  37,  38,  39,  40,  41,  42,  43,  44,  45,  46,  47,  48,\n",
       "        49,  50,  51,  52,  53,  54,  55,  56,  57,  58,  59,  60,  61,\n",
       "        62,  63,  64,  65,  66,  67,  68,  69,  70,  71,  72,  73,  74,\n",
       "        75,  76,  77,  78,  79,  80,  81,  82,  83,  84,  85,  86,  87,\n",
       "        88,  89,  90,  91,  92,  93,  94,  95,  96,  97,  98,  99, 100,\n",
       "       101, 102, 103, 104, 105, 106, 107, 108, 109])"
      ]
     },
     "execution_count": 133,
     "metadata": {},
     "output_type": "execute_result"
    }
   ],
   "source": [
    "A"
   ]
  },
  {
   "cell_type": "code",
   "execution_count": 134,
   "metadata": {},
   "outputs": [],
   "source": [
    "# Two structures dimensions should be similar before adding them"
   ]
  },
  {
   "cell_type": "code",
   "execution_count": 135,
   "metadata": {},
   "outputs": [],
   "source": [
    "A=np.round(10*np.random.rand(2,3))"
   ]
  },
  {
   "cell_type": "code",
   "execution_count": 136,
   "metadata": {},
   "outputs": [
    {
     "data": {
      "text/plain": [
       "array([[9., 1., 1.],\n",
       "       [4., 0., 4.]])"
      ]
     },
     "execution_count": 136,
     "metadata": {},
     "output_type": "execute_result"
    }
   ],
   "source": [
    "A"
   ]
  },
  {
   "cell_type": "code",
   "execution_count": 137,
   "metadata": {},
   "outputs": [
    {
     "data": {
      "text/plain": [
       "array([[12.,  4.,  4.],\n",
       "       [ 7.,  3.,  7.]])"
      ]
     },
     "execution_count": 137,
     "metadata": {},
     "output_type": "execute_result"
    }
   ],
   "source": [
    "A+3"
   ]
  },
  {
   "cell_type": "code",
   "execution_count": 139,
   "metadata": {},
   "outputs": [
    {
     "data": {
      "text/plain": [
       "array([[9., 1., 1.],\n",
       "       [5., 1., 5.]])"
      ]
     },
     "execution_count": 139,
     "metadata": {},
     "output_type": "execute_result"
    }
   ],
   "source": [
    "A+(np.arange(2).reshape(2,1))"
   ]
  },
  {
   "cell_type": "code",
   "execution_count": 140,
   "metadata": {},
   "outputs": [],
   "source": [
    "B=np.round(10*np.random.rand(2,2))"
   ]
  },
  {
   "cell_type": "code",
   "execution_count": 141,
   "metadata": {},
   "outputs": [
    {
     "data": {
      "text/plain": [
       "array([[4., 2.],\n",
       "       [5., 6.]])"
      ]
     },
     "execution_count": 141,
     "metadata": {},
     "output_type": "execute_result"
    }
   ],
   "source": [
    "B"
   ]
  },
  {
   "cell_type": "code",
   "execution_count": 144,
   "metadata": {},
   "outputs": [],
   "source": [
    "C=np.hstack((A,B))"
   ]
  },
  {
   "cell_type": "code",
   "execution_count": 145,
   "metadata": {},
   "outputs": [
    {
     "data": {
      "text/plain": [
       "array([[9., 1., 1., 4., 2.],\n",
       "       [4., 0., 4., 5., 6.]])"
      ]
     },
     "execution_count": 145,
     "metadata": {},
     "output_type": "execute_result"
    }
   ],
   "source": [
    "C"
   ]
  },
  {
   "cell_type": "code",
   "execution_count": 147,
   "metadata": {},
   "outputs": [],
   "source": [
    "A=np.random.permutation(np.arange(10))"
   ]
  },
  {
   "cell_type": "code",
   "execution_count": 148,
   "metadata": {},
   "outputs": [
    {
     "data": {
      "text/plain": [
       "array([8, 5, 2, 6, 3, 0, 7, 1, 4, 9])"
      ]
     },
     "execution_count": 148,
     "metadata": {},
     "output_type": "execute_result"
    }
   ],
   "source": [
    "A"
   ]
  },
  {
   "cell_type": "code",
   "execution_count": 150,
   "metadata": {},
   "outputs": [],
   "source": [
    "A.sort()\n",
    "A"
   ]
  },
  {
   "cell_type": "code",
   "execution_count": 152,
   "metadata": {},
   "outputs": [
    {
     "data": {
      "text/plain": [
       "array([9, 8, 7, 6, 5, 4, 3, 2, 1, 0])"
      ]
     },
     "execution_count": 152,
     "metadata": {},
     "output_type": "execute_result"
    }
   ],
   "source": [
    "#sorting in descending order\n",
    "A[::-1]"
   ]
  },
  {
   "cell_type": "code",
   "execution_count": 153,
   "metadata": {},
   "outputs": [],
   "source": [
    "A=np.array(['abc','how are u','u765','13er'])"
   ]
  },
  {
   "cell_type": "code",
   "execution_count": 154,
   "metadata": {},
   "outputs": [],
   "source": [
    "A.sort()"
   ]
  },
  {
   "cell_type": "code",
   "execution_count": 155,
   "metadata": {},
   "outputs": [
    {
     "data": {
      "text/plain": [
       "array(['13er', 'abc', 'how are u', 'u765'], dtype='<U9')"
      ]
     },
     "execution_count": 155,
     "metadata": {},
     "output_type": "execute_result"
    }
   ],
   "source": [
    "A"
   ]
  },
  {
   "cell_type": "markdown",
   "metadata": {},
   "source": [
    "# NUMPY (Speed : ufuncs)"
   ]
  },
  {
   "cell_type": "code",
   "execution_count": 160,
   "metadata": {},
   "outputs": [],
   "source": [
    "b = np.random.rand(1000000)"
   ]
  },
  {
   "cell_type": "code",
   "execution_count": 162,
   "metadata": {},
   "outputs": [
    {
     "name": "stdout",
     "output_type": "stream",
     "text": [
      "152 ms ± 3.51 ms per loop (mean ± std. dev. of 7 runs, 10 loops each)\n",
      "591 µs ± 34.7 µs per loop (mean ± std. dev. of 7 runs, 1000 loops each)\n"
     ]
    }
   ],
   "source": [
    "%timeit sum(b)\n",
    "%timeit np.sum(b)"
   ]
  },
  {
   "cell_type": "code",
   "execution_count": 163,
   "metadata": {},
   "outputs": [],
   "source": [
    "#numpy fuction is way faster"
   ]
  },
  {
   "cell_type": "code",
   "execution_count": null,
   "metadata": {},
   "outputs": [],
   "source": []
  },
  {
   "cell_type": "code",
   "execution_count": null,
   "metadata": {},
   "outputs": [],
   "source": []
  }
 ],
 "metadata": {
  "kernelspec": {
   "display_name": "Python 3",
   "language": "python",
   "name": "python3"
  },
  "language_info": {
   "codemirror_mode": {
    "name": "ipython",
    "version": 3
   },
   "file_extension": ".py",
   "mimetype": "text/x-python",
   "name": "python",
   "nbconvert_exporter": "python",
   "pygments_lexer": "ipython3",
   "version": "3.6.9"
  }
 },
 "nbformat": 4,
 "nbformat_minor": 4
}
